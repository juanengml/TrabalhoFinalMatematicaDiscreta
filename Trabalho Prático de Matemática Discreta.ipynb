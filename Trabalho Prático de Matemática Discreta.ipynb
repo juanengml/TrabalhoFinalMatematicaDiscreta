{
 "cells": [
  {
   "cell_type": "markdown",
   "metadata": {},
   "source": [
    "<center><h1> Trabalho Prático de Matemática Discreta: Análise de Algoritmos de Ordenação </h1> </center>\n",
    "\n"
   ]
  },
  {
   "cell_type": "markdown",
   "metadata": {},
   "source": [
    "| Membros | Nome                     |\n",
    "|---------|--------------------------|\n",
    "| 01      | Juan Manoel              |\n",
    "| 02      | Robin Hoodix             |\n",
    "| 03      | Yang Jin Samara cavalari |\n",
    "| 04      | Gustavo Jeromine         |\n",
    "| 05      | Vladimir da Silva Borges |"
   ]
  },
  {
   "cell_type": "markdown",
   "metadata": {},
   "source": [
    "### 1 - Introdução\n",
    "\n",
    "Deve conter:\n",
    "* Uma breve descrição do objetivo do trabalho\n",
    "* O que são algoritmos de ordenação, o que fazem, como funcionam, onde podem ser aplicados, importância etc\n",
    "* Uma breve introdução aos algoritmos escolhidos\n"
   ]
  },
  {
   "cell_type": "code",
   "execution_count": null,
   "metadata": {},
   "outputs": [],
   "source": []
  },
  {
   "cell_type": "code",
   "execution_count": null,
   "metadata": {},
   "outputs": [],
   "source": []
  },
  {
   "cell_type": "code",
   "execution_count": null,
   "metadata": {},
   "outputs": [],
   "source": []
  },
  {
   "cell_type": "markdown",
   "metadata": {},
   "source": [
    "### 2 - Descrição e Análise do Algoritmo 1\n",
    "\n",
    "Deve conter:\n",
    "* Descrição completa do primeiro algoritmo escolhido: nome, origem, estratégia usada, e como funciona\n",
    "* Estrutura do algoritmo em pseudocódigo\n",
    "* Citações para a descrição do algoritmo e pseudocódigo\n"
   ]
  },
  {
   "cell_type": "code",
   "execution_count": 22,
   "metadata": {},
   "outputs": [],
   "source": [
    "import time"
   ]
  },
  {
   "cell_type": "code",
   "execution_count": 68,
   "metadata": {},
   "outputs": [],
   "source": [
    "def merge(llist, rlist):\n",
    "        final = []\n",
    "        while llist or rlist:\n",
    "                if len(llist) and len(rlist):\n",
    "                        if llist[0] < rlist[0]:\n",
    "                                final.append(llist.pop(0))\n",
    "                                \n",
    "                        else:\n",
    "                                final.append(rlist.pop(0))\n",
    "                                 \n",
    "\n",
    "                if not len(llist):\n",
    "                                if len(rlist):\n",
    "                                      final.append(rlist.pop(0))\n",
    "                                       \n",
    "\n",
    "                if not len(rlist):\n",
    "                                if len(llist): \n",
    "                                      final.append(llist.pop(0))\n",
    "                                       \n",
    "\n",
    "        return final\n",
    "\n",
    "def merge_sort(list):\n",
    "        \"\"\"\n",
    "        Sort the list passed by argument with merge.\n",
    "        \"\"\"\n",
    "        if len(list) < 2: return list\n",
    "        mid = len(list) / 2\n",
    "        return merge(merge_sort(list[:mid]), merge_sort(list[mid:]))"
   ]
  },
  {
   "cell_type": "code",
   "execution_count": 72,
   "metadata": {},
   "outputs": [
    {
     "name": "stdout",
     "output_type": "stream",
     "text": [
      "Tempo de Execução:  4.91142272949e-05\n",
      "Tempo de Execução:  4.41074371338e-05\n",
      "Tempo de Execução:  0.000198125839233\n",
      "Tempo de Execução:  4.31537628174e-05\n",
      "Tempo de Execução:  0.000176906585693\n",
      "Tempo de Execução:  4.31537628174e-05\n",
      "Tempo de Execução:  4.29153442383e-05\n",
      "Tempo de Execução:  4.10079956055e-05\n",
      "Tempo de Execução:  4.29153442383e-05\n",
      "Tempo de Execução:  3.69548797607e-05\n"
     ]
    }
   ],
   "source": [
    "data01 = []\n",
    "for p in range(10):\n",
    " ini01 = time.time()\n",
    " merge_sort([5,3,1,7,2,9,8])\n",
    " fim01 = time.time()\n",
    " print \"Tempo de Execução: \", fim01-ini01\n",
    " tempo01 = fim01-ini01\n",
    " data01.append(tempo01)"
   ]
  },
  {
   "cell_type": "code",
   "execution_count": null,
   "metadata": {},
   "outputs": [],
   "source": []
  },
  {
   "cell_type": "markdown",
   "metadata": {},
   "source": [
    "### 3 - Descrição e Análise do Algoritmo 2\n",
    "\n",
    "Deve conter:\n",
    "* Descrição completa do segundo algoritmo escolhido: nome, origem, estratégia usada, e como funciona\n",
    "* Estrutura do algoritmo em pseudocódigo\n",
    "* Citações para a descrição do algoritmo e pseudocódigo\n",
    "\n"
   ]
  },
  {
   "cell_type": "code",
   "execution_count": null,
   "metadata": {},
   "outputs": [],
   "source": []
  },
  {
   "cell_type": "code",
   "execution_count": 66,
   "metadata": {},
   "outputs": [],
   "source": [
    "def bubble_sort(lista):\n",
    "   elementos = len(lista)-1\n",
    "   ordenado = False\n",
    "   while not ordenado:\n",
    "        ordenado = True\n",
    "        for i in range(elementos):\n",
    "             if lista[i] > lista[i+1]:\n",
    "                 lista[i], lista[i+1] = lista[i+1],lista[i]\n",
    "                 ordenado = False        \n",
    "                 #print(lista)\n",
    "   return lista"
   ]
  },
  {
   "cell_type": "code",
   "execution_count": 71,
   "metadata": {},
   "outputs": [
    {
     "name": "stdout",
     "output_type": "stream",
     "text": [
      "Tempo de Execução:  9.05990600586e-06\n",
      "Tempo de Execução:  8.10623168945e-06\n",
      "Tempo de Execução:  8.10623168945e-06\n",
      "Tempo de Execução:  6.91413879395e-06\n",
      "Tempo de Execução:  7.15255737305e-06\n",
      "Tempo de Execução:  6.91413879395e-06\n",
      "Tempo de Execução:  6.91413879395e-06\n",
      "Tempo de Execução:  6.19888305664e-06\n",
      "Tempo de Execução:  5.96046447754e-06\n",
      "Tempo de Execução:  5.96046447754e-06\n"
     ]
    }
   ],
   "source": [
    "data02 = []\n",
    "\n",
    "for p in range(10):\n",
    " ini = time.time()\n",
    " bubble_sort([5,3,1,7,2,9,8])\n",
    " fim = time.time()\n",
    " print \"Tempo de Execução: \",fim-ini\n",
    " tempo2 = fim-ini \n",
    " data02.append(tempo2)"
   ]
  },
  {
   "cell_type": "code",
   "execution_count": 73,
   "metadata": {},
   "outputs": [
    {
     "name": "stdout",
     "output_type": "stream",
     "text": [
      "[9.059906005859375e-06, 8.106231689453125e-06, 8.106231689453125e-06, 6.9141387939453125e-06, 7.152557373046875e-06, 6.9141387939453125e-06, 6.9141387939453125e-06, 6.198883056640625e-06, 5.9604644775390625e-06, 5.9604644775390625e-06]\n",
      "[4.9114227294921875e-05, 4.410743713378906e-05, 0.00019812583923339844, 4.315376281738281e-05, 0.00017690658569335938, 4.315376281738281e-05, 4.291534423828125e-05, 4.100799560546875e-05, 4.291534423828125e-05, 3.695487976074219e-05]\n"
     ]
    }
   ],
   "source": [
    "print data02\n",
    "print data01"
   ]
  },
  {
   "cell_type": "markdown",
   "metadata": {},
   "source": [
    "### 4 - Análise Assintótica Comparativa\n",
    "\n",
    "Deve conter:\n",
    "* Representação em Ozão ou Theta da complexidade do algoritmo 1 no melhor e pior caso em relação ao tempo de execução\n",
    "* Representação em Ozão ou Theta da complexidade do algoritmo 2 no melhor e pior caso em relação ao tempo de execução\n",
    "* Discussão a respeito de qual algoritmo é o mais eficiente\n"
   ]
  },
  {
   "cell_type": "code",
   "execution_count": null,
   "metadata": {},
   "outputs": [],
   "source": []
  },
  {
   "cell_type": "code",
   "execution_count": null,
   "metadata": {},
   "outputs": [],
   "source": []
  },
  {
   "cell_type": "code",
   "execution_count": null,
   "metadata": {},
   "outputs": [],
   "source": []
  },
  {
   "cell_type": "markdown",
   "metadata": {},
   "source": [
    "### 5 - Análise Experimental Opcional\n",
    "\n",
    "Esta seção opcional deve conter:\n",
    "* A descrição da configuração da análise experimental conduzida: implementação utilizada, configurações da máquina utilizada, tamanhos de entrada utilizados, tipo de dados usados como entrada, e método utilizado de quantificação de tempo/operações primitivas.\n",
    "* Gráfico comparando ambas curvas de desempenho obtidas pelos algoritmos de ordenação escolhidos.\n",
    "\n"
   ]
  },
  {
   "cell_type": "code",
   "execution_count": null,
   "metadata": {},
   "outputs": [],
   "source": []
  },
  {
   "cell_type": "markdown",
   "metadata": {},
   "source": [
    "### Plot Grafico de Desempenho Merge Sort"
   ]
  },
  {
   "cell_type": "code",
   "execution_count": 45,
   "metadata": {},
   "outputs": [],
   "source": [
    "import matplotlib.pyplot as plt\n",
    "import seaborn as sns\n",
    "%matplotlib inline"
   ]
  },
  {
   "cell_type": "code",
   "execution_count": 74,
   "metadata": {},
   "outputs": [
    {
     "data": {
      "image/png": "[encoded data removed]",
      "text/plain": [
       "<Figure size 432x288 with 1 Axes>"
      ]
     },
     "metadata": {},
     "output_type": "display_data"
    }
   ],
   "source": [
    "plt.plot(data01)\n",
    "plt.ylabel('Merge Sort')\n",
    "plt.show()"
   ]
  },
  {
   "cell_type": "markdown",
   "metadata": {},
   "source": [
    "### Plot Grafico de Desempenho bubble sort"
   ]
  },
  {
   "cell_type": "code",
   "execution_count": 75,
   "metadata": {},
   "outputs": [
    {
     "data": {
      "image/png": "[encoded data removed]",
      "text/plain": [
       "<Figure size 432x288 with 1 Axes>"
      ]
     },
     "metadata": {},
     "output_type": "display_data"
    }
   ],
   "source": [
    "plt.plot(data02)\n",
    "plt.ylabel('bubble sort')\n",
    "plt.show()"
   ]
  },
  {
   "cell_type": "markdown",
   "metadata": {},
   "source": [
    "### 6 - Referências\n",
    "\n",
    "Esta seção deve conter uma linha para cada referência utilizada. Exemplo:\n",
    "\n",
    "Lee, J., & Yeung, C. Y. (2018). Personalizing Lexical Simplification. In Proceedings of the 27th International Conference on Computational Linguistics.\n",
    "Mancini, P. (2011). Leader, president, person: Lexical ambiguities and interpretive implications. European Journal of Communication, 26(1).\n",
    "Saggion, H. (2018). LaSTUS/TALN at Complex Word Identification (CWI) 2018 Shared Task. In Proceedings of the Thirteenth Workshop on Innovative Use of NLP for Building Educational Applications\n"
   ]
  },
  {
   "cell_type": "code",
   "execution_count": null,
   "metadata": {},
   "outputs": [],
   "source": []
  }
 ],
 "metadata": {
  "kernelspec": {
   "display_name": "Python 2",
   "language": "python",
   "name": "python2"
  },
  "language_info": {
   "codemirror_mode": {
    "name": "ipython",
    "version": 2
   },
   "file_extension": ".py",
   "mimetype": "text/x-python",
   "name": "python",
   "nbconvert_exporter": "python",
   "pygments_lexer": "ipython2",
   "version": "2.7.15rc1"
  }
 },
 "nbformat": 4,
 "nbformat_minor": 2
}
