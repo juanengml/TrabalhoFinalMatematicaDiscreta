{
 "cells": [
  {
   "cell_type": "markdown",
   "metadata": {},
   "source": [
    "<center><h1> Trabalho Prático de Matemática Discreta: Análise de Algoritmos de Ordenação </h1> </center>\n",
    "\n"
   ]
  },
  {
   "cell_type": "markdown",
   "metadata": {},
   "source": [
    "| Membros | Nome                     |\n",
    "|---------|--------------------------|\n",
    "| 01      | Juan Manoel              |\n",
    "| 02      | Robson Barreto             |\n",
    "| 03      | Yang Jin Samara cavalari |\n",
    "| 04      | Gustavo Jeromine         |\n",
    "| 05      | Vladimir da Silva Borges |"
   ]
  },
  {
   "cell_type": "markdown",
   "metadata": {},
   "source": [
    "### 1 - Introdução\n",
    "\n",
    "Deve conter:(Vladimir e Robson)\n",
    "* Uma breve descrição do objetivo do trabalho\n",
    "* O que são algoritmos de ordenação, o que fazem, como funcionam, onde podem ser aplicados, importância etc\n",
    "* Uma breve introdução aos algoritmos escolhidos\n",
    "<i>\n",
    "\n",
    "O trabalho a respeito de algoritmos de ordenação tem por objetivo principal a análise do código implementado, pontuando seus principais atributos relacionando volume de dados e tempo de execução, oque é muito comum no setor de análise de dados. Os resultados apresentados serão de cunho técnico e gráfico, mostrando a curva de variação no desempenho em cada tipo de algoritmo de ordenação.                                                                \n",
    "Algoritmos de ordenação são métodos em termos de organização de código que tem por objetivo fazer  a ordenação de dados, ou seja, manipulam dados de uma sequência aleatória transformando-os em uma sequência ordenada decrescente, crescente, alfabética ou até mesmo falando em Orientação a Objeto, comparação de Objetos. Funcionam com uma repetição sistêmica dentro de um conjunto finito de elementos, comparando em  cada ciclo os dados de cada um, e trocando suas posições conforme for o objetivo do algoritmo. Podem ser aplicados em programas que frequentemente recebem uma grande quantidade de dados e por esse motivo necessitam de uma composição correta dos mesmos, para que eventualmente haja uma melhor performance do programa para executar a busca. \n",
    "Os algoritmos de ordenação tem grande importância no meio computacional, principalmente na área de programação por determinar muitas vezes o tempo de execução do programa em termos de alocação de dados, oque sempre foi um objetivo em comum entre os desenvolvedores.\n",
    "O MERGE SORT que usa a estratégia de classificação, ordenação por partição (dividir e conquistar). O BUBLE SORT tem como característica percorrer o vetor por completo, comparando elementos adjacentes (dois a dois).\n",
    "</i>"
   ]
  },
  {
   "cell_type": "markdown",
   "metadata": {},
   "source": [
    "Objetivo:\n",
    "\n",
    "Escrever uma análise descrevendo e comparando dois algoritmos de ordenação distintos.\n",
    "\n",
    "Objetivos Específicos:\n",
    "\n",
    "- Buscar por dois algoritmos distintos de ordenação na literatura.\n",
    "\n",
    "- Descrever como funcionam, de onde surgiram, etc.\n",
    "\n",
    "- Buscar na literatura pela complexidade assintótica no melhor e pior caso em notação Ozão ou Theta em relação ao tempo de execução/número de operações primitivas realizadas.\n",
    "\n",
    "- Analizar as diferenças de complexidade entre os dois algoritmos e discutir a respeito da eficiência dos mesmos.\n",
    "\n"
   ]
  },
  {
   "cell_type": "code",
   "execution_count": 1,
   "metadata": {},
   "outputs": [],
   "source": [
    "from IPython.display import HTML\n",
    "import time"
   ]
  },
  {
   "cell_type": "markdown",
   "metadata": {},
   "source": [
    "### 2 - Descrição e Análise do Algoritmo 1\n",
    "\n",
    "Deve conter:\n",
    "* Descrição completa do primeiro algoritmo escolhido: nome, origem, estratégia usada, e como funciona\n",
    "* Estrutura do algoritmo em pseudocódigo\n",
    "* Citações para a descrição do algoritmo e pseudocódigo\n"
   ]
  },
  {
   "cell_type": "markdown",
   "metadata": {},
   "source": [
    "##### Descrição completa do primeiro algoritmo escolhido: nome, origem, estratégia usada, e como funciona\n",
    "<br>\n",
    "<b>Nome: </b> Merge Sort\n",
    "<br><br>\n",
    "<b>Origem: </b> Existem evidências de que o algoritmo foi proposto por <b>John Von Neumann </b> em 1945. Essa discussão existe, por que ao estudar as várias contribuições que ele fez é, ao mesmo tempo, complexa e \n",
    "fascinante. Essa complexidade devesse em parte a existência de muitas fontes de\n",
    "informação, algumas pouco é dificilmente acessíveis, outras discordantes entre si ou polêmicas. Outras contruibuições atribuem ao <b>Knuth</b>, que argumentou no seu livro ‘Arte de Programação\n",
    "Computacional: Ordenando e Procurando’ que Von Neumann foi o primeiro a\n",
    "descrever a idéia.\n",
    "<br>\n",
    "<br>\n",
    "<b>Estratégia usada: </b>tenicas de classificação - Ordenação por partição(dividir e conquistar)\n",
    "o mergesort é classificado como ordenação por partição, que parte do princípio de\n",
    "\"dividir para conquistar\". Este princípio é uma técnica que foi utilizada pela primeira\n",
    "vez por Anatolii Karatsuba em 1960 e consiste em dividir um problema maior em\n",
    "problemas pequenos, e sucessivamente até que o mesmo seja resolvido diretamente.\n",
    "\n",
    "<br><br>\n",
    "<b>Como funciona: a técnica realiza-se em três fases.</b>\n",
    "\n",
    "1) Divisão: o problema maior é dividido em problemas menores e os problemas menores obtidos são novamente divididos sucessivamente de maneira recursiva.\n",
    "\n",
    "2) Conquista: o resultado do problema é calculado quando o problema é pequeno o suficiente.\n",
    "\n",
    "3) Combinação: os resultados dos problemas menores são combinados até que seja obtida a solução do problema maior. Algoritmos que utilizam o método de partição são caracterizados por serem os mais rápidos dentre os outros algoritmos pelo fato de sua complexidade ser, na maioria das situações, O(nlogn). Os dois representantes mais ilustres desta classe são o quicksort e o mergesort\n"
   ]
  },
  {
   "cell_type": "code",
   "execution_count": 2,
   "metadata": {},
   "outputs": [
    {
     "name": "stdout",
     "output_type": "stream",
     "text": [
      "Aplicação Merge Sort\n"
     ]
    },
    {
     "data": {
      "text/html": [
       "<img src=\"./merge.gif\" style=\"width:200px;height:200px;\" >"
      ],
      "text/plain": [
       "<IPython.core.display.HTML object>"
      ]
     },
     "execution_count": 2,
     "metadata": {},
     "output_type": "execute_result"
    }
   ],
   "source": [
    "print \"Aplicação Merge Sort\"\n",
    "HTML('<img src=\"./merge.gif\" style=\"width:200px;height:200px;\" >')"
   ]
  },
  {
   "cell_type": "markdown",
   "metadata": {},
   "source": [
    "# Estrutura do algoritmo em pseudocódigo\n"
   ]
  },
  {
   "cell_type": "markdown",
   "metadata": {},
   "source": [
    "\n",
    "<br>    \n",
    "<b>MERGE-SORT(A, p, r)</b>\n",
    "\n",
    "    if p < r then  \n",
    "        q = ((p + r) / 2) //calcula o meio\n",
    "        Merge-Sort(A, p, q)\n",
    "        Merge-Sort(A, q + 1, r)\n",
    "        Merge(A, p, q, r)\n",
    "\n",
    "<b>Merge(A, p, q, r)</b>\n",
    "\n",
    "    n1 = q - p + 1\n",
    "    n2 = r - q\n",
    "    sejam L[1 ... n1 + 1] e R[1 ... n2 + 1]\n",
    "    for i = 1 to n1\n",
    "        L[i] = A[p + i - 1]\n",
    "    for j = 1 to n2\n",
    "        R[j] = A[q + j]\n",
    "\n",
    "    i = 1\n",
    "    j = 1\n",
    "\n",
    "    for k = p to r\n",
    "        if L[i] <= R[j] then A[k] = L[i]\n",
    "            i = i + 1\n",
    "        else A[k] = R[j]\n",
    "            j = j + 1\n",
    "            \n",
    "            \n"
   ]
  },
  {
   "cell_type": "markdown",
   "metadata": {},
   "source": [
    "### Citações para a descrição do algoritmo e pseudocódigo"
   ]
  },
  {
   "cell_type": "raw",
   "metadata": {},
   "source": [
    "mergesort(A[0...n - 1], inicio, fim)\n",
    "|   se(inicio < fim)\n",
    "|   |   meio ← (inicio + fim) / 2 //calcula o meio\n",
    "|   |   mergesort(A, inicio, meio) //ordena o subvetor esquerdo\n",
    "|   |   mergesort(A, meio + 1, fim) //ordena o subvetor direito\n",
    "|   |   merge(A, inicio, meio, fim) //funde os subvetores esquerdo e direito\n",
    "|   fim_se\n",
    "fim_mergesort\n",
    "\n",
    "merge(A[0...n - 1], inicio, meio, fim)\n",
    "|   tamEsq ← meio - inicio + 1 //tamanho do subvetor esquerdo\n",
    "|   tamDir ← fim - meio //tamanho do subvetor direito\n",
    "|   inicializar vetor Esq[0...tamEsq - 1]\n",
    "|   inicializar vetor Dir[0...tamDir - 1]\n",
    "|   para i ← 0 até tamEsq - 1\n",
    "|   |   Esq[i] ← A[inicio + i] //elementos do subvetor esquerdo\n",
    "|   fim_para\n",
    "|   para j ← 0 até tamDir - 1\n",
    "|   |   Dir[j] ← A[meio + 1 + j] //elementos do subvetor direito\n",
    "|   fim_para\n",
    "|   idxEsq ← 0 //índice do subvetor auxiliar esquerdo\n",
    "|   idxDir ← 0 //índice do subvetor auxiliar direito\n",
    "|   para k ← inicio até fim\n",
    "|   |   se(idxEsq < tamEsq)\n",
    "|   |   |   se(idxDir < tamDir)\n",
    "|   |   |   |   se(Esq[idxEsq] < Dir[idxDir])\n",
    "|   |   |   |   |   A[k] ← Esq[idxEsq]\n",
    "|   |   |   |   |   idxEsq ← idxEsq + 1\n",
    "|   |   |   |   senão\n",
    "|   |   |   |   |   A[k] ← Dir[idxDir]\n",
    "|   |   |   |   |   idxDir ← idxDir + 1\n",
    "|   |   |   |   fim_se\n",
    "|   |   |   senão\n",
    "|   |   |   |   A[k] ← Esq[idxEsq]\n",
    "|   |   |   |   idxEsq ← idxEsq + 1\n",
    "|   |   |   fim_se\n",
    "|   |   senão\n",
    "|   |   |   A[k] ← Dir[idxDir]\n",
    "|   |   |   idxDir ← idxDir + 1\n",
    "|   |   fim_se\n",
    "|   fim_para\n",
    "fim_merge"
   ]
  },
  {
   "cell_type": "markdown",
   "metadata": {},
   "source": [
    "<h4><b><i>\" Observe que o método merge utiliza dois vetores auxiliares. A utilização desses vetores faz com o Merge Sort tenha complexidade O(n) no espaço.\n",
    "\n",
    "Por causa da cópia de elementos entre os vetores auxiliares e o vetor A, a complexidade no tempo do método merge é Θ(n) ou O(n).\n",
    "\n",
    "Alternativamente, podemos utilizar um único vetor auxiliar na ordenação, porém a complexidade no tempo e no espaço será a mesma. \"</i></b></h4>\n",
    "[1] CORMEN, T. H. et al. Algoritmos: teoria e prática. 3 ed. Rio de Janeiro: Elsevier, 2012.\n",
    "\n",
    "---"
   ]
  },
  {
   "cell_type": "markdown",
   "metadata": {},
   "source": [
    "#### Codigo python"
   ]
  },
  {
   "cell_type": "code",
   "execution_count": 3,
   "metadata": {},
   "outputs": [],
   "source": [
    "def merge(llist, rlist):\n",
    "        final = []\n",
    "        while llist or rlist:\n",
    "                if len(llist) and len(rlist):\n",
    "                        if llist[0] < rlist[0]:\n",
    "                                final.append(llist.pop(0))\n",
    "                                \n",
    "                        else:\n",
    "                                final.append(rlist.pop(0))\n",
    "                                 \n",
    "\n",
    "                if not len(llist):\n",
    "                                if len(rlist):\n",
    "                                      final.append(rlist.pop(0))\n",
    "                                       \n",
    "\n",
    "                if not len(rlist):\n",
    "                                if len(llist): \n",
    "                                      final.append(llist.pop(0))\n",
    "\n",
    "        return final\n",
    "\n",
    "def merge_sort(list):\n",
    "        if len(list) < 2: return list\n",
    "        mid = len(list) / 2\n",
    "        return merge(merge_sort(list[:mid]), merge_sort(list[mid:]))"
   ]
  },
  {
   "cell_type": "markdown",
   "metadata": {},
   "source": [
    "### 3 - Descrição e Análise do Algoritmo 2\n",
    "\n",
    "Deve conter:\n",
    "* Descrição completa do segundo algoritmo escolhido: nome, origem, estratégia usada, e como funciona\n",
    "* Estrutura do algoritmo em pseudocódigo\n",
    "* Citações para a descrição do algoritmo e pseudocódigo\n",
    "\n",
    "<b> Descrição completa do segundo algoritmo escolhido: nome, origem, estratégia usada, e como funciona </b>\n",
    "\n",
    "<b>Nome: </b> Bubble Sort<br><br>\n",
    "<b>Origem: </b> Origem Não Achei <br><br>\n",
    "<b>Estrategia Usada: </b>\n",
    " é o algoritmo de ordenação mais simples que funciona trocando repetidamente os elementos adjacentes se eles estiverem na ordem errada.<br><br>\n",
    "<b>Como funciona: </b> \n",
    "Percorre o vetor inteiro comparando\n",
    "elementos adjacentes (dois a dois) a estrategia de trocar as posições dos elementos se eles estiverem fora de ordem o repita os dois passos acima com os primeiros n-1 itens, depois com os primeiros n-2 itens, até que reste apenas um item <br><br>\n",
    "\n"
   ]
  },
  {
   "cell_type": "code",
   "execution_count": 4,
   "metadata": {},
   "outputs": [
    {
     "name": "stdout",
     "output_type": "stream",
     "text": [
      "Aplicação Bubble Sort\n"
     ]
    },
    {
     "data": {
      "text/html": [
       "<img src=\"./Bubble.gif\" style=\"width:200px;height:200px;\" >"
      ],
      "text/plain": [
       "<IPython.core.display.HTML object>"
      ]
     },
     "execution_count": 4,
     "metadata": {},
     "output_type": "execute_result"
    }
   ],
   "source": [
    "print \"Aplicação Bubble Sort\"\n",
    "HTML('<img src=\"./Bubble.gif\" style=\"width:200px;height:200px;\" >')"
   ]
  },
  {
   "cell_type": "markdown",
   "metadata": {},
   "source": [
    "### Estrutura do algoritmo em pseudocódigo\n",
    "\n"
   ]
  },
  {
   "cell_type": "raw",
   "metadata": {},
   "source": [
    "procedure bubbleSort( A : lista de itens ordenaveis ) defined as:\n",
    "  do\n",
    "    trocado := false\n",
    "    for each i in 0 to length( A ) - 2 do:\n",
    "      // verificar se os elementos estão na ordem certa\n",
    "      if A[ i ] > A[ i + 1 ] then\n",
    "        // trocar elementos de lugar\n",
    "        trocar( A[ i ], A[ i + 1 ] )\n",
    "        trocado := true\n",
    "      end if\n",
    "    end for\n",
    "  // enquanto houver elementos sendo reordenados.\n",
    "  while trocado\n",
    "end procedure"
   ]
  },
  {
   "cell_type": "markdown",
   "metadata": {},
   "source": [
    "---\n",
    "#### Codigo Python "
   ]
  },
  {
   "cell_type": "code",
   "execution_count": 60,
   "metadata": {},
   "outputs": [],
   "source": [
    "def bubble_sort(lista):\n",
    "   elementos = len(lista)-1\n",
    "   ordenado = False\n",
    "   while not ordenado:\n",
    "        ordenado = True\n",
    "        for i in range(elementos):\n",
    "             if lista[i] > lista[i+1]:\n",
    "                 lista[i], lista[i+1] = lista[i+1],lista[i]\n",
    "                 ordenado = False        \n",
    "                 #print(lista)\n",
    "   return lista"
   ]
  },
  {
   "cell_type": "code",
   "execution_count": 61,
   "metadata": {},
   "outputs": [],
   "source": [
    "melhor_caso = range(100)"
   ]
  },
  {
   "cell_type": "code",
   "execution_count": 62,
   "metadata": {},
   "outputs": [
    {
     "data": {
      "text/plain": [
       "[0,\n",
       " 1,\n",
       " 2,\n",
       " 3,\n",
       " 4,\n",
       " 5,\n",
       " 6,\n",
       " 7,\n",
       " 8,\n",
       " 9,\n",
       " 10,\n",
       " 11,\n",
       " 12,\n",
       " 13,\n",
       " 14,\n",
       " 15,\n",
       " 16,\n",
       " 17,\n",
       " 18,\n",
       " 19,\n",
       " 20,\n",
       " 21,\n",
       " 22,\n",
       " 23,\n",
       " 24,\n",
       " 25,\n",
       " 26,\n",
       " 27,\n",
       " 28,\n",
       " 29,\n",
       " 30,\n",
       " 31,\n",
       " 32,\n",
       " 33,\n",
       " 34,\n",
       " 35,\n",
       " 36,\n",
       " 37,\n",
       " 38,\n",
       " 39,\n",
       " 40,\n",
       " 41,\n",
       " 42,\n",
       " 43,\n",
       " 44,\n",
       " 45,\n",
       " 46,\n",
       " 47,\n",
       " 48,\n",
       " 49,\n",
       " 50,\n",
       " 51,\n",
       " 52,\n",
       " 53,\n",
       " 54,\n",
       " 55,\n",
       " 56,\n",
       " 57,\n",
       " 58,\n",
       " 59,\n",
       " 60,\n",
       " 61,\n",
       " 62,\n",
       " 63,\n",
       " 64,\n",
       " 65,\n",
       " 66,\n",
       " 67,\n",
       " 68,\n",
       " 69,\n",
       " 70,\n",
       " 71,\n",
       " 72,\n",
       " 73,\n",
       " 74,\n",
       " 75,\n",
       " 76,\n",
       " 77,\n",
       " 78,\n",
       " 79,\n",
       " 80,\n",
       " 81,\n",
       " 82,\n",
       " 83,\n",
       " 84,\n",
       " 85,\n",
       " 86,\n",
       " 87,\n",
       " 88,\n",
       " 89,\n",
       " 90,\n",
       " 91,\n",
       " 92,\n",
       " 93,\n",
       " 94,\n",
       " 95,\n",
       " 96,\n",
       " 97,\n",
       " 98,\n",
       " 99]"
      ]
     },
     "execution_count": 62,
     "metadata": {},
     "output_type": "execute_result"
    }
   ],
   "source": [
    "bubble_sort(melhor_caso)"
   ]
  },
  {
   "cell_type": "markdown",
   "metadata": {},
   "source": [
    "### 4 - Análise Assintótica Comparativa\n",
    "\n",
    "Deve conter:\n",
    "* Representação em Ozão ou Theta da complexidade do algoritmo 1 no melhor e pior caso em relação ao tempo de execução\n",
    "* Representação em Ozão ou Theta da complexidade do algoritmo 2 no melhor e pior caso em relação ao tempo de execução\n",
    "* Discussão a respeito de qual algoritmo é o mais eficiente\n"
   ]
  },
  {
   "cell_type": "code",
   "execution_count": null,
   "metadata": {},
   "outputs": [],
   "source": []
  },
  {
   "cell_type": "markdown",
   "metadata": {},
   "source": [
    "<center><h4>Complexidade Algoritmo 1 Merge</h4></center>\n",
    "\n",
    "| Caso    | Analise Assintótica            | Tempo Execução   |\n",
    "|---------|--------------------------------|------------------|\n",
    "| Melhor  |       O(n log base 2 n)        | 0.000979900360107 | \n",
    "| Pior    |       O(n log base 2 n)        | 0.0190689563751   |\n"
   ]
  },
  {
   "cell_type": "code",
   "execution_count": 6,
   "metadata": {},
   "outputs": [
    {
     "ename": "NameError",
     "evalue": "name 'Metrica_merge' is not defined",
     "output_type": "error",
     "traceback": [
      "\u001b[0;31m---------------------------------------------------------------------------\u001b[0m",
      "\u001b[0;31mNameError\u001b[0m                                 Traceback (most recent call last)",
      "\u001b[0;32m<ipython-input-6-a954937b3deb>\u001b[0m in \u001b[0;36m<module>\u001b[0;34m()\u001b[0m\n\u001b[0;32m----> 1\u001b[0;31m \u001b[0mm\u001b[0m \u001b[0;34m=\u001b[0m \u001b[0mmerge_sort\u001b[0m\u001b[0;34m(\u001b[0m\u001b[0mMetrica_merge\u001b[0m\u001b[0;34m)\u001b[0m\u001b[0;34m\u001b[0m\u001b[0m\n\u001b[0m\u001b[1;32m      2\u001b[0m \u001b[0;32mprint\u001b[0m \u001b[0;34m\"Melhor Caso: \"\u001b[0m\u001b[0;34m,\u001b[0m\u001b[0mm\u001b[0m\u001b[0;34m[\u001b[0m\u001b[0;36m0\u001b[0m\u001b[0;34m]\u001b[0m\u001b[0;34m\u001b[0m\u001b[0m\n\u001b[1;32m      3\u001b[0m \u001b[0;32mprint\u001b[0m \u001b[0;34m\"Pior Caso: \"\u001b[0m\u001b[0;34m,\u001b[0m\u001b[0mm\u001b[0m\u001b[0;34m[\u001b[0m\u001b[0;34m-\u001b[0m\u001b[0;36m1\u001b[0m\u001b[0;34m]\u001b[0m\u001b[0;34m\u001b[0m\u001b[0m\n",
      "\u001b[0;31mNameError\u001b[0m: name 'Metrica_merge' is not defined"
     ]
    }
   ],
   "source": [
    "m = merge_sort(Metrica_merge)\n",
    "print \"Melhor Caso: \",m[0]\n",
    "print \"Pior Caso: \",m[-1]"
   ]
  },
  {
   "cell_type": "markdown",
   "metadata": {},
   "source": [
    "<center><h4>Complexidade Algoritmo 2 Bubble</h4></center>\n",
    "\n",
    "| Caso    | Analise Assintótica            | Tempo de Execução |\n",
    "|---------|--------------------------------|-------------------|\n",
    "| Melhor  |       O(n²)                    | 0.000216007232666 |\n",
    "| Pior    |       O(n²)                    | 0.00135803222656  | \n"
   ]
  },
  {
   "cell_type": "code",
   "execution_count": 7,
   "metadata": {},
   "outputs": [
    {
     "ename": "NameError",
     "evalue": "name 'Metrica_bubble' is not defined",
     "output_type": "error",
     "traceback": [
      "\u001b[0;31m---------------------------------------------------------------------------\u001b[0m",
      "\u001b[0;31mNameError\u001b[0m                                 Traceback (most recent call last)",
      "\u001b[0;32m<ipython-input-7-fccf5c3991d2>\u001b[0m in \u001b[0;36m<module>\u001b[0;34m()\u001b[0m\n\u001b[0;32m----> 1\u001b[0;31m \u001b[0mm\u001b[0m \u001b[0;34m=\u001b[0m \u001b[0mbubble_sort\u001b[0m\u001b[0;34m(\u001b[0m\u001b[0mMetrica_bubble\u001b[0m\u001b[0;34m)\u001b[0m\u001b[0;34m\u001b[0m\u001b[0m\n\u001b[0m\u001b[1;32m      2\u001b[0m \u001b[0;32mprint\u001b[0m \u001b[0;34m\"Melhor Caso: \"\u001b[0m\u001b[0;34m,\u001b[0m\u001b[0mm\u001b[0m\u001b[0;34m[\u001b[0m\u001b[0;36m0\u001b[0m\u001b[0;34m]\u001b[0m\u001b[0;34m\u001b[0m\u001b[0m\n\u001b[1;32m      3\u001b[0m \u001b[0;32mprint\u001b[0m \u001b[0;34m\"Pior Caso: \"\u001b[0m\u001b[0;34m,\u001b[0m\u001b[0mm\u001b[0m\u001b[0;34m[\u001b[0m\u001b[0;34m-\u001b[0m\u001b[0;36m1\u001b[0m\u001b[0;34m]\u001b[0m\u001b[0;34m\u001b[0m\u001b[0m\n",
      "\u001b[0;31mNameError\u001b[0m: name 'Metrica_bubble' is not defined"
     ]
    }
   ],
   "source": [
    "m = bubble_sort(Metrica_bubble)\n",
    "print \"Melhor Caso: \",m[0]\n",
    "print \"Pior Caso: \",m[-1]"
   ]
  },
  {
   "cell_type": "markdown",
   "metadata": {},
   "source": [
    "### Discussão a respeito de qual algoritmo é o mais eficiente"
   ]
  },
  {
   "cell_type": "markdown",
   "metadata": {},
   "source": [
    "Bubble sort por ser uma função quadrática começa a rodar mais rapidamente enquanto o merge sort é uma função log-linear na base 2 e demora mais, ou seja é mais lento. Enquanto a sua estabilidade ao longo do tempo o merge sort é mais recomendado pois é estável."
   ]
  },
  {
   "cell_type": "markdown",
   "metadata": {},
   "source": [
    "O Bubble sort no melhor caso ele rodou em 0,00021 de segundos e no pior caso em 0,00135. O merge sort no melhor caso ele rodou em 0,00097 de segundos e no pior caso ele rodou em 0,01906 de segundos."
   ]
  },
  {
   "cell_type": "markdown",
   "metadata": {},
   "source": [
    "Segundo o Professor Moacir Ponti Jr. do Instituto de Ciências Matemáticas e de Computação da USP, o algoritmo bubble sort consome muito tempo quando todos os itens estão ordenados."
   ]
  },
  {
   "cell_type": "markdown",
   "metadata": {},
   "source": [
    "### 5 - Análise Experimental Opcional\n",
    "\n",
    "Esta seção opcional deve conter:\n",
    "* A descrição da configuração da análise experimental conduzida: implementação utilizada, configurações da máquina utilizada, tamanhos de entrada utilizados, tipo de dados usados como entrada, e método utilizado de quantificação de tempo/operações primitivas.\n",
    "* Gráfico comparando ambas curvas de desempenho obtidas pelos algoritmos de ordenação escolhidos.\n",
    "\n"
   ]
  },
  {
   "cell_type": "markdown",
   "metadata": {},
   "source": [
    "#### Valores de Test "
   ]
  },
  {
   "cell_type": "code",
   "execution_count": 51,
   "metadata": {},
   "outputs": [],
   "source": [
    "from random import shuffle\n",
    "import threading\n",
    "import time"
   ]
  },
  {
   "cell_type": "code",
   "execution_count": 52,
   "metadata": {},
   "outputs": [],
   "source": [
    "x0 = range(100)     # 0\n",
    "x1 = range(500)     # 1\n",
    "x2 = range(1000)    # 2\n",
    "x3 = range(1500)    # 3 \n",
    "x4 = range(2500)   # 4 \n",
    "x5 = range(3000)   # 5\n",
    "x6 = range(4000)   # 6\n",
    "x7 = range(5000)  # 7 \n",
    "test = [x0,x1,x2,x3,x4,x5,x6,x7]"
   ]
  },
  {
   "cell_type": "code",
   "execution_count": 53,
   "metadata": {},
   "outputs": [],
   "source": [
    "for p in range(len(test)):\n",
    "    shuffle(test[p])"
   ]
  },
  {
   "cell_type": "code",
   "execution_count": 54,
   "metadata": {},
   "outputs": [],
   "source": [
    "def Metrica_Bubble():\n",
    " data = []\n",
    " for p in range(len(test)):\n",
    "    ini = time.time()\n",
    "    bubble_sort(test[p])\n",
    "    fim = time.time()\n",
    "    print \"\\n\",p,\"[Bubble] \\t\\n Tempo de Execução: \",fim-ini\n",
    "    tempo = fim-ini \n",
    "    data.append(tempo)\n",
    " return data  \n",
    "\n",
    "def Metrica_Merge():\n",
    " data = []\n",
    " for p in range(len(test)):\n",
    "    ini = time.time()\n",
    "    merge_sort(test[p])\n",
    "    fim = time.time()\n",
    "    print \"\\n\",p,\"[Merge] \\t\\n Tempo de Execução: \",fim-ini\n",
    "    tempo = fim-ini \n",
    "    data.append(tempo)\n",
    " return data  \n"
   ]
  },
  {
   "cell_type": "markdown",
   "metadata": {},
   "source": [
    "###  \"Rodando Metricas com Mult-thread\""
   ]
  },
  {
   "cell_type": "code",
   "execution_count": 44,
   "metadata": {},
   "outputs": [
    {
     "name": "stdout",
     "output_type": "stream",
     "text": [
      "\n",
      "0 [Bubble] \t\n",
      " Tempo de Execução:  0.00333595275879\n",
      "\n",
      "1 [Bubble] \t\n",
      " Tempo de Execução:  0.030385017395\n",
      "\n",
      "2 [Bubble] \t\n",
      " Tempo de Execução:  0.076761007309\n",
      "\n",
      "3 [Bubble] \t\n",
      " Tempo de Execução:  0.171379804611\n",
      "\n",
      "4 [Bubble] \t\n",
      " Tempo de Execução:  0.484302043915\n",
      "\n",
      "5 [Bubble] \t\n",
      " Tempo de Execução:  0.720495939255\n",
      "\n",
      "6 [Bubble] \t\n",
      " Tempo de Execução:  1.25877213478\n",
      "\n",
      "7 [Bubble] \t\n",
      " Tempo de Execução:  2.17992901802\n"
     ]
    }
   ],
   "source": [
    "t = threading.Thread(target=Metrica_Bubble,)\n",
    "t.start()"
   ]
  },
  {
   "cell_type": "code",
   "execution_count": 45,
   "metadata": {},
   "outputs": [
    {
     "name": "stdout",
     "output_type": "stream",
     "text": [
      "\n",
      "0 [Merge] \t\n",
      " Tempo de Execução:  0.00272798538208\n",
      "\n",
      "1 [Merge] \t\n",
      " Tempo de Execução:  0.0162880420685\n",
      "\n",
      "2 [Merge] \t\n",
      " Tempo de Execução:  0.0114190578461\n",
      "\n",
      "3 [Merge] \t\n",
      " Tempo de Execução:  0.0106689929962\n",
      "\n",
      "4 [Merge] \t\n",
      " Tempo de Execução:  0.0193338394165\n",
      "\n",
      "5 [Merge] \t\n",
      " Tempo de Execução:  0.0175430774689\n",
      "\n",
      "6 [Merge] \t\n",
      " Tempo de Execução:  0.0222299098969\n",
      "\n",
      "7 [Merge] \t\n",
      " Tempo de Execução:  0.0291469097137\n"
     ]
    }
   ],
   "source": [
    "t2 = threading.Thread(target=Metrica_Merge,)\n",
    "t2.start()"
   ]
  },
  {
   "cell_type": "markdown",
   "metadata": {},
   "source": [
    "### Metricas sem Mult-thread"
   ]
  },
  {
   "cell_type": "code",
   "execution_count": 55,
   "metadata": {},
   "outputs": [
    {
     "name": "stdout",
     "output_type": "stream",
     "text": [
      "\n",
      "0 [Bubble] \t\n",
      " Tempo de Execução:  0.00438904762268\n",
      "\n",
      "1 [Bubble] \t\n",
      " Tempo de Execução:  0.0432360172272\n",
      "\n",
      "2 [Bubble] \t\n",
      " Tempo de Execução:  0.0886840820312\n",
      "\n",
      "3 [Bubble] \t\n",
      " Tempo de Execução:  0.179042100906\n",
      "\n",
      "4 [Bubble] \t\n",
      " Tempo de Execução:  0.481693983078\n",
      "\n",
      "5 [Bubble] \t\n",
      " Tempo de Execução:  0.701171159744\n",
      "\n",
      "6 [Bubble] \t\n",
      " Tempo de Execução:  1.29754710197\n",
      "\n",
      "7 [Bubble] \t\n",
      " Tempo de Execução:  1.99673199654\n"
     ]
    }
   ],
   "source": [
    "Metrica_bubble = Metrica_Bubble()"
   ]
  },
  {
   "cell_type": "code",
   "execution_count": 56,
   "metadata": {},
   "outputs": [
    {
     "name": "stdout",
     "output_type": "stream",
     "text": [
      "\n",
      "0 [Merge] \t\n",
      " Tempo de Execução:  0.00325489044189\n",
      "\n",
      "1 [Merge] \t\n",
      " Tempo de Execução:  0.00767397880554\n",
      "\n",
      "2 [Merge] \t\n",
      " Tempo de Execução:  0.00639700889587\n",
      "\n",
      "3 [Merge] \t\n",
      " Tempo de Execução:  0.00835990905762\n",
      "\n",
      "4 [Merge] \t\n",
      " Tempo de Execução:  0.0147490501404\n",
      "\n",
      "5 [Merge] \t\n",
      " Tempo de Execução:  0.0161941051483\n",
      "\n",
      "6 [Merge] \t\n",
      " Tempo de Execução:  0.0234518051147\n",
      "\n",
      "7 [Merge] \t\n",
      " Tempo de Execução:  0.0320658683777\n"
     ]
    }
   ],
   "source": [
    "Metrica_merge = Metrica_Merge()"
   ]
  },
  {
   "cell_type": "markdown",
   "metadata": {},
   "source": [
    "### Plot Grafico de Desempenho Merge Sort"
   ]
  },
  {
   "cell_type": "code",
   "execution_count": 57,
   "metadata": {},
   "outputs": [],
   "source": [
    "import matplotlib.pyplot as plt\n",
    "import seaborn as sns\n",
    "%matplotlib inline"
   ]
  },
  {
   "cell_type": "code",
   "execution_count": 58,
   "metadata": {},
   "outputs": [
    {
     "data": {
      "image/png": "[encoded data removed]",
      "text/plain": [
       "<Figure size 432x288 with 1 Axes>"
      ]
     },
     "metadata": {},
     "output_type": "display_data"
    }
   ],
   "source": [
    "plt.plot(Metrica_merge)\n",
    "plt.ylabel('Merge Sort')\n",
    "plt.show()"
   ]
  },
  {
   "cell_type": "markdown",
   "metadata": {},
   "source": [
    "### Plot Grafico de Desempenho bubble sort"
   ]
  },
  {
   "cell_type": "code",
   "execution_count": 59,
   "metadata": {},
   "outputs": [
    {
     "data": {
      "image/png": "[encoded data removed]",
      "text/plain": [
       "<Figure size 432x288 with 1 Axes>"
      ]
     },
     "metadata": {},
     "output_type": "display_data"
    }
   ],
   "source": [
    "plt.plot(Metrica_bubble)\n",
    "plt.ylabel('bubble sort')\n",
    "plt.show()"
   ]
  },
  {
   "cell_type": "markdown",
   "metadata": {},
   "source": [
    "### 6 - Referências\n",
    "\n",
    "Esta seção deve conter uma linha para cada referência utilizada. Exemplo:\n",
    "\n",
    "Lee, J., & Yeung, C. Y. (2018). Personalizing Lexical Simplification. In Proceedings of the 27th International Conference on Computational Linguistics.\n",
    "Mancini, P. (2011). Leader, president, person: Lexical ambiguities and interpretive implications. European Journal of Communication, 26(1).\n",
    "Saggion, H. (2018). LaSTUS/TALN at Complex Word Identification (CWI) 2018 Shared Task. In Proceedings of the Thirteenth Workshop on Innovative Use of NLP for Building Educational Applications\n",
    "\n",
    "MERGESORT - https://www.ft.unicamp.br/liag/siteEd/includes/arquivos/MergeSortResumo_Grupo4_ST364A_2010.pdf\n",
    "\n",
    "Merge Sort - https://pt.slideshare.net/dianacarolinatarapueschirivi/merge-sort-25398213\n",
    "\n",
    "bubble sort - http://www2.dcc.ufmg.br/disciplinas/aeds2_turmaA1/bubblesort.pdf\n",
    "\n",
    "https://edisciplinas.ups.br/pluginfile.php/2223654/mod_resource/content/1/ICC2_ordenacao_parte1.pdf\n",
    "\n",
    "https://www.ufrj.brb/jairo_souza/files/2009/12/2-Ordena%C3%A7%C3%A3o-BubbleSort.pdf\n"
   ]
  },
  {
   "cell_type": "code",
   "execution_count": null,
   "metadata": {},
   "outputs": [],
   "source": []
  }
 ],
 "metadata": {
  "kernelspec": {
   "display_name": "Python 2",
   "language": "python",
   "name": "python2"
  },
  "language_info": {
   "codemirror_mode": {
    "name": "ipython",
    "version": 2
   },
   "file_extension": ".py",
   "mimetype": "text/x-python",
   "name": "python",
   "nbconvert_exporter": "python",
   "pygments_lexer": "ipython2",
   "version": "2.7.15rc1"
  }
 },
 "nbformat": 4,
 "nbformat_minor": 2
}
